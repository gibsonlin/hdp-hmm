{
 "cells": [
  {
   "cell_type": "code",
   "execution_count": null,
   "id": "494ed372",
   "metadata": {},
   "outputs": [],
   "source": [
    "\"\"\"\n",
    "HDP-HMM MCMC Financial Regime Detection\n",
    "\n",
    "This script provides an interactive interface for analyzing financial market regimes \n",
    "using a Hierarchical Dirichlet Process Hidden Markov Model (HDP-HMM) with \n",
    "Markov Chain Monte Carlo (MCMC) sampling.\n",
    "\n",
    "Overview:\n",
    "1. Data Pipeline: Fetch SPY daily data and calculate log returns\n",
    "2. Model Training: Train the HDP-HMM model using MCMC\n",
    "3. State Analysis: Analyze the identified regimes and their parameters\n",
    "4. Signal Generation: Generate trading signals based on regime changes\n",
    "5. Performance Evaluation: Benchmark against buy and hold strategy\n",
    "\n",
    "To convert this script to a Jupyter notebook, run:\n",
    "jupyter nbconvert --to notebook --execute hdp_hmm_analysis.py\n",
    "\"\"\""
   ]
  },
  {
   "cell_type": "code",
   "execution_count": null,
   "id": "255c3b33",
   "metadata": {},
   "outputs": [],
   "source": [
    "import sys\n",
    "import os\n",
    "import numpy as np\n",
    "import pandas as pd\n",
    "import matplotlib.pyplot as plt\n",
    "from datetime import datetime\n",
    "import pickle"
   ]
  },
  {
   "cell_type": "code",
   "execution_count": null,
   "id": "08fcd6be",
   "metadata": {},
   "outputs": [],
   "source": [
    "sys.path.append('../src')"
   ]
  },
  {
   "cell_type": "code",
   "execution_count": null,
   "id": "dfb19e25",
   "metadata": {},
   "outputs": [],
   "source": [
    "from data_pipeline import DataPipeline\n",
    "from hdp_hmm import HDPHMM\n",
    "from model_training import train_model, analyze_state_parameters\n",
    "from signal_generation import RegimeSignalGenerator\n",
    "from benchmarking import StrategyBenchmark, run_benchmark"
   ]
  },
  {
   "cell_type": "code",
   "execution_count": null,
   "id": "21cde49f",
   "metadata": {},
   "outputs": [],
   "source": [
    "plt.style.use('ggplot')\n",
    "plt.rcParams['figure.figsize'] = (12, 8)"
   ]
  },
  {
   "cell_type": "code",
   "execution_count": null,
   "id": "952cda5c",
   "metadata": {},
   "outputs": [],
   "source": [
    "print(\"## 1. Data Pipeline\")\n",
    "print(\"Fetch SPY daily data and calculate log returns using the DataPipeline class.\")"
   ]
  },
  {
   "cell_type": "code",
   "execution_count": null,
   "id": "2e4a91c3",
   "metadata": {},
   "outputs": [],
   "source": [
    "data_start_date = \"2010-01-01\"\n",
    "pipeline = DataPipeline(ticker=\"SPY\", start_date=data_start_date)"
   ]
  },
  {
   "cell_type": "code",
   "execution_count": null,
   "id": "e00cb064",
   "metadata": {},
   "outputs": [],
   "source": [
    "data = pipeline.fetch_data()\n",
    "print(f\"Data shape: {data.shape}\")\n",
    "print(data.head())"
   ]
  },
  {
   "cell_type": "code",
   "execution_count": null,
   "id": "8f99d0d9",
   "metadata": {},
   "outputs": [],
   "source": [
    "log_returns = pipeline.calculate_log_returns()\n",
    "print(f\"Log returns shape: {log_returns.shape}\")\n",
    "print(log_returns.head())"
   ]
  },
  {
   "cell_type": "code",
   "execution_count": null,
   "id": "88caf8da",
   "metadata": {},
   "outputs": [],
   "source": [
    "pipeline.plot_data()"
   ]
  },
  {
   "cell_type": "code",
   "execution_count": null,
   "id": "e5bbb3e5",
   "metadata": {},
   "outputs": [],
   "source": [
    "train_ratio = 0.7\n",
    "train_data, test_data = pipeline.split_data(train_ratio=train_ratio)"
   ]
  },
  {
   "cell_type": "code",
   "execution_count": null,
   "id": "11328b2b",
   "metadata": {},
   "outputs": [],
   "source": [
    "print(f\"Training data shape: {train_data.shape}\")\n",
    "print(f\"Testing data shape: {test_data.shape}\")"
   ]
  },
  {
   "cell_type": "code",
   "execution_count": null,
   "id": "9049a24a",
   "metadata": {},
   "outputs": [],
   "source": [
    "print(\"\\n## 2. Model Training\")\n",
    "print(\"Train the HDP-HMM model using MCMC sampling. This can take a while depending on the number of iterations and the size of the dataset.\")"
   ]
  },
  {
   "cell_type": "code",
   "execution_count": null,
   "id": "b3f3eacb",
   "metadata": {
    "lines_to_next_cell": 2
   },
   "outputs": [],
   "source": [
    "n_iter = 1000  # Number of MCMC iterations\n",
    "alpha = 1.0    # Concentration parameter for the Dirichlet Process prior on transitions\n",
    "gamma = 1.0    # Concentration parameter for the Dirichlet Process prior on states\n",
    "kappa = 10.0   # Self-transition bias parameter (sticky HDP-HMM)\n",
    "max_states = 20  # Maximum number of states to consider (truncation level)"
   ]
  },
  {
   "cell_type": "code",
   "execution_count": null,
   "id": "b0db4834",
   "metadata": {},
   "outputs": [],
   "source": [
    "os.makedirs(\"../models\", exist_ok=True)\n",
    "os.makedirs(\"../plots\", exist_ok=True)"
   ]
  },
  {
   "cell_type": "code",
   "execution_count": null,
   "id": "8c40d317",
   "metadata": {},
   "outputs": [],
   "source": [
    "model, train_data, test_data = train_model(\n",
    "    data_start_date=data_start_date,\n",
    "    train_ratio=train_ratio,\n",
    "    n_iter=n_iter,\n",
    "    alpha=alpha,\n",
    "    gamma=gamma,\n",
    "    kappa=kappa,\n",
    "    max_states=max_states,\n",
    "    save_dir=\"../models\",\n",
    "    plot_dir=\"../plots\"\n",
    ")"
   ]
  },
  {
   "cell_type": "code",
   "execution_count": null,
   "id": "8f1c02c9",
   "metadata": {},
   "outputs": [],
   "source": []
  },
  {
   "cell_type": "code",
   "execution_count": null,
   "id": "15fb7ae5",
   "metadata": {},
   "outputs": [],
   "source": [
    "print(\"\\n## 3. State Analysis\")\n",
    "print(\"Analyze the identified regimes and their parameters.\")"
   ]
  },
  {
   "cell_type": "code",
   "execution_count": null,
   "id": "ac381f2f",
   "metadata": {},
   "outputs": [],
   "source": [
    "if not hasattr(model, 'state_parameters') or not model.state_parameters:\n",
    "    model._extract_state_parameters()"
   ]
  },
  {
   "cell_type": "code",
   "execution_count": null,
   "id": "a2269f61",
   "metadata": {},
   "outputs": [],
   "source": [
    "print(f\"Active states: {model.active_states}\")"
   ]
  },
  {
   "cell_type": "code",
   "execution_count": null,
   "id": "8b3e01d3",
   "metadata": {},
   "outputs": [],
   "source": [
    "for s in model.active_states:\n",
    "    if s in model.state_parameters:\n",
    "        params = model.state_parameters[s]\n",
    "        print(f\"\\nState {s}:\")\n",
    "        print(f\"  Mean: {params['mean'][0]:.6f}\")\n",
    "        print(f\"  Std: {params['std'][0]:.6f}\")\n",
    "        print(f\"  Count: {params['count']}\")\n",
    "        print(f\"  Proportion: {params['proportion']:.4f}\")"
   ]
  },
  {
   "cell_type": "code",
   "execution_count": null,
   "id": "a35cf424",
   "metadata": {},
   "outputs": [],
   "source": [
    "model.plot_state_sequence(data=log_returns)"
   ]
  },
  {
   "cell_type": "code",
   "execution_count": null,
   "id": "1cef26bc",
   "metadata": {},
   "outputs": [],
   "source": [
    "model.plot_state_parameters()"
   ]
  },
  {
   "cell_type": "code",
   "execution_count": null,
   "id": "e82e6667",
   "metadata": {},
   "outputs": [],
   "source": [
    "model.plot_log_likelihood()"
   ]
  },
  {
   "cell_type": "code",
   "execution_count": null,
   "id": "a786e3a9",
   "metadata": {},
   "outputs": [],
   "source": [
    "analyze_state_parameters(model, log_returns, save_dir=\"../plots\")"
   ]
  },
  {
   "cell_type": "code",
   "execution_count": null,
   "id": "71e41a2c",
   "metadata": {},
   "outputs": [],
   "source": [
    "print(\"\\n## 4. Signal Generation\")\n",
    "print(\"Generate trading signals based on regime changes.\")"
   ]
  },
  {
   "cell_type": "code",
   "execution_count": null,
   "id": "f42e5184",
   "metadata": {},
   "outputs": [],
   "source": [
    "signal_generator = RegimeSignalGenerator(model=model)"
   ]
  },
  {
   "cell_type": "code",
   "execution_count": null,
   "id": "d2036d70",
   "metadata": {},
   "outputs": [],
   "source": [
    "mapping_method = \"mean_based\"  # Options: \"mean_based\", \"volatility_based\", \"combined\"\n",
    "state_mapping = signal_generator.create_state_mapping(method=mapping_method)"
   ]
  },
  {
   "cell_type": "code",
   "execution_count": null,
   "id": "e3b39e4e",
   "metadata": {},
   "outputs": [],
   "source": [
    "print(\"State Mapping:\")\n",
    "for s, mapping in state_mapping.items():\n",
    "    print(f\"State {s}: {mapping['label']} ({mapping['guideline']})\")"
   ]
  },
  {
   "cell_type": "code",
   "execution_count": null,
   "id": "50a48df1",
   "metadata": {},
   "outputs": [],
   "source": [
    "signal_generator.plot_state_mapping()"
   ]
  },
  {
   "cell_type": "code",
   "execution_count": null,
   "id": "dac4fb22",
   "metadata": {},
   "outputs": [],
   "source": [
    "confidence_threshold = 0.6\n",
    "test_dates = log_returns.index[int(len(log_returns) * train_ratio):]"
   ]
  },
  {
   "cell_type": "code",
   "execution_count": null,
   "id": "ecc51bb5",
   "metadata": {},
   "outputs": [],
   "source": [
    "signals = signal_generator.generate_signals(\n",
    "    test_data, \n",
    "    dates=test_dates, \n",
    "    confidence_threshold=confidence_threshold\n",
    ")"
   ]
  },
  {
   "cell_type": "code",
   "execution_count": null,
   "id": "b0df3927",
   "metadata": {},
   "outputs": [],
   "source": [
    "print(signals.head())"
   ]
  },
  {
   "cell_type": "code",
   "execution_count": null,
   "id": "6b29548c",
   "metadata": {},
   "outputs": [],
   "source": [
    "regime_change_signals = signal_generator.generate_regime_change_signals(\n",
    "    test_data, \n",
    "    dates=test_dates, \n",
    "    confidence_threshold=confidence_threshold\n",
    ")"
   ]
  },
  {
   "cell_type": "code",
   "execution_count": null,
   "id": "2960bf95",
   "metadata": {},
   "outputs": [],
   "source": [
    "print(regime_change_signals.head())"
   ]
  },
  {
   "cell_type": "code",
   "execution_count": null,
   "id": "4985554c",
   "metadata": {},
   "outputs": [],
   "source": [
    "test_prices = data['Close'][test_dates]\n",
    "signal_generator.plot_signals(price_data=test_prices)"
   ]
  },
  {
   "cell_type": "code",
   "execution_count": null,
   "id": "10705c81",
   "metadata": {},
   "outputs": [],
   "source": [
    "print(\"\\n## 5. Performance Evaluation\")\n",
    "print(\"Benchmark the trading strategy against a buy and hold strategy.\")"
   ]
  },
  {
   "cell_type": "code",
   "execution_count": null,
   "id": "53172d25",
   "metadata": {},
   "outputs": [],
   "source": [
    "initial_capital = 10000.0\n",
    "transaction_cost = 0.001\n",
    "benchmark = StrategyBenchmark(initial_capital=initial_capital)"
   ]
  },
  {
   "cell_type": "code",
   "execution_count": null,
   "id": "256ecd42",
   "metadata": {},
   "outputs": [],
   "source": [
    "strategy_data, metrics = benchmark.benchmark_strategy(\n",
    "    regime_change_signals,  # Using regime change signals\n",
    "    test_prices, \n",
    "    strategy_name=\"HDP-HMM Regime Strategy\",\n",
    "    transaction_cost=transaction_cost\n",
    ")"
   ]
  },
  {
   "cell_type": "code",
   "execution_count": null,
   "id": "77c9f2f8",
   "metadata": {},
   "outputs": [],
   "source": [
    "benchmark.print_performance_summary()"
   ]
  },
  {
   "cell_type": "code",
   "execution_count": null,
   "id": "29bcec8a",
   "metadata": {},
   "outputs": [],
   "source": [
    "benchmark.plot_equity_curves()"
   ]
  },
  {
   "cell_type": "code",
   "execution_count": null,
   "id": "28099112",
   "metadata": {},
   "outputs": [],
   "source": [
    "benchmark.plot_returns_distribution()"
   ]
  },
  {
   "cell_type": "code",
   "execution_count": null,
   "id": "858be7b0",
   "metadata": {},
   "outputs": [],
   "source": [
    "os.makedirs(\"../results\", exist_ok=True)\n",
    "benchmark.save_results(directory=\"../results\")"
   ]
  },
  {
   "cell_type": "code",
   "execution_count": null,
   "id": "49aa59f9",
   "metadata": {},
   "outputs": [],
   "source": [
    "print(\"\\n## 6. Parameter Sensitivity Analysis\")\n",
    "print(\"Analyze the sensitivity of the strategy to different parameters.\")"
   ]
  },
  {
   "cell_type": "code",
   "execution_count": null,
   "id": "8c9c2098",
   "metadata": {},
   "outputs": [],
   "source": [
    "confidence_thresholds = [0.4, 0.5, 0.6, 0.7, 0.8]\n",
    "threshold_results = {}"
   ]
  },
  {
   "cell_type": "code",
   "execution_count": null,
   "id": "2e7dfdd2",
   "metadata": {},
   "outputs": [],
   "source": [
    "for threshold in confidence_thresholds:\n",
    "    signals = signal_generator.generate_regime_change_signals(\n",
    "        test_data, \n",
    "        dates=test_dates, \n",
    "        confidence_threshold=threshold\n",
    "    )\n",
    "    \n",
    "    benchmark = StrategyBenchmark(initial_capital=initial_capital)\n",
    "    strategy_data, metrics = benchmark.benchmark_strategy(\n",
    "        signals, \n",
    "        test_prices, \n",
    "        strategy_name=f\"Threshold {threshold}\",\n",
    "        transaction_cost=transaction_cost\n",
    "    )\n",
    "    \n",
    "    threshold_results[threshold] = metrics"
   ]
  },
  {
   "cell_type": "code",
   "execution_count": null,
   "id": "cdef4269",
   "metadata": {},
   "outputs": [],
   "source": [
    "comparison = pd.DataFrame({\n",
    "    f\"Threshold {threshold}\": {\n",
    "        'Annual Return': metrics['Strategy_Annual_Return'],\n",
    "        'Sharpe Ratio': metrics['Strategy_Sharpe'],\n",
    "        'Max Drawdown': metrics['Strategy_Max_Drawdown'],\n",
    "        'Win Rate': metrics['Win_Rate'],\n",
    "        'Number of Trades': metrics['Number_of_Trades']\n",
    "    } for threshold, metrics in threshold_results.items()\n",
    "})"
   ]
  },
  {
   "cell_type": "code",
   "execution_count": null,
   "id": "cfacfe8c",
   "metadata": {},
   "outputs": [],
   "source": [
    "print(comparison)"
   ]
  },
  {
   "cell_type": "code",
   "execution_count": null,
   "id": "e89ca7e2",
   "metadata": {},
   "outputs": [],
   "source": [
    "mapping_methods = [\"mean_based\", \"volatility_based\", \"combined\"]\n",
    "method_results = {}"
   ]
  },
  {
   "cell_type": "code",
   "execution_count": null,
   "id": "33606c80",
   "metadata": {},
   "outputs": [],
   "source": [
    "for method in mapping_methods:\n",
    "    signal_generator = RegimeSignalGenerator(model=model)\n",
    "    state_mapping = signal_generator.create_state_mapping(method=method)\n",
    "    \n",
    "    signals = signal_generator.generate_regime_change_signals(\n",
    "        test_data, \n",
    "        dates=test_dates, \n",
    "        confidence_threshold=0.6\n",
    "    )\n",
    "    \n",
    "    benchmark = StrategyBenchmark(initial_capital=initial_capital)\n",
    "    strategy_data, metrics = benchmark.benchmark_strategy(\n",
    "        signals, \n",
    "        test_prices, \n",
    "        strategy_name=f\"Method {method}\",\n",
    "        transaction_cost=transaction_cost\n",
    "    )\n",
    "    \n",
    "    method_results[method] = metrics"
   ]
  },
  {
   "cell_type": "code",
   "execution_count": null,
   "id": "90fe3381",
   "metadata": {},
   "outputs": [],
   "source": [
    "comparison = pd.DataFrame({\n",
    "    f\"Method {method}\": {\n",
    "        'Annual Return': metrics['Strategy_Annual_Return'],\n",
    "        'Sharpe Ratio': metrics['Strategy_Sharpe'],\n",
    "        'Max Drawdown': metrics['Strategy_Max_Drawdown'],\n",
    "        'Win Rate': metrics['Win_Rate'],\n",
    "        'Number of Trades': metrics['Number_of_Trades']\n",
    "    } for method, metrics in method_results.items()\n",
    "})"
   ]
  },
  {
   "cell_type": "code",
   "execution_count": null,
   "id": "d96f770b",
   "metadata": {},
   "outputs": [],
   "source": [
    "print(comparison)"
   ]
  },
  {
   "cell_type": "code",
   "execution_count": null,
   "id": "3a8f98a7",
   "metadata": {},
   "outputs": [],
   "source": [
    "print(\"\\n## 7. Conclusion\")\n",
    "print(\"\"\"\n",
    "The HDP-HMM MCMC model successfully identifies different market regimes in the SPY daily data. \n",
    "The trading strategy based on regime changes shows promising results compared to the buy and hold strategy.\n",
    "\n",
    "Key findings:\n",
    "1. The model identifies multiple regimes with distinct mean returns and volatilities\n",
    "2. The regime-based trading strategy adapts to changing market conditions\n",
    "3. Parameter sensitivity analysis shows the importance of proper calibration\n",
    "\n",
    "Future improvements:\n",
    "1. Incorporate more features beyond just log returns\n",
    "2. Optimize hyperparameters using cross-validation\n",
    "3. Implement more sophisticated trading rules based on regime probabilities\n",
    "4. Test the strategy on different assets and timeframes\n",
    "\"\"\")"
   ]
  }
 ],
 "metadata": {
  "jupytext": {
   "cell_metadata_filter": "-all",
   "main_language": "python",
   "notebook_metadata_filter": "-all"
  }
 },
 "nbformat": 4,
 "nbformat_minor": 5
}
