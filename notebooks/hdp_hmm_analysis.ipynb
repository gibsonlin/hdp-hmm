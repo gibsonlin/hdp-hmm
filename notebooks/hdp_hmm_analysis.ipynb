{
 "cells": [
  {
   "cell_type": "code",
   "execution_count": null,
   "id": "8b0ff374",
   "metadata": {},
   "outputs": [],
   "source": [
    "\"\"\"\n",
    "HDP-HMM MCMC Financial Regime Detection\n",
    "\n",
    "This script provides an interactive interface for analyzing financial market regimes \n",
    "using a Hierarchical Dirichlet Process Hidden Markov Model (HDP-HMM) with \n",
    "Markov Chain Monte Carlo (MCMC) sampling.\n",
    "\n",
    "Overview:\n",
    "1. Data Pipeline: Fetch SPY daily data and calculate log returns\n",
    "2. Model Training: Train the HDP-HMM model using MCMC\n",
    "3. State Analysis: Analyze the identified regimes and their parameters\n",
    "4. Signal Generation: Generate trading signals based on regime changes\n",
    "5. Performance Evaluation: Benchmark against buy and hold strategy\n",
    "\n",
    "To convert this script to a Jupyter notebook, run:\n",
    "jupyter nbconvert --to notebook --execute hdp_hmm_analysis.py\n",
    "\"\"\""
   ]
  },
  {
   "cell_type": "code",
   "execution_count": null,
   "id": "30e80851",
   "metadata": {},
   "outputs": [],
   "source": [
    "import sys\n",
    "import os\n",
    "import numpy as np\n",
    "import pandas as pd\n",
    "import matplotlib.pyplot as plt\n",
    "from datetime import datetime\n",
    "import pickle"
   ]
  },
  {
   "cell_type": "code",
   "execution_count": null,
   "id": "a365698f",
   "metadata": {},
   "outputs": [],
   "source": [
    "sys.path.append('../src')"
   ]
  },
  {
   "cell_type": "code",
   "execution_count": null,
   "id": "5f2fb3ef",
   "metadata": {},
   "outputs": [],
   "source": [
    "from data_pipeline import DataPipeline\n",
    "from hdp_hmm import HDPHMM\n",
    "from model_training import train_model, analyze_state_parameters\n",
    "from signal_generation import RegimeSignalGenerator\n",
    "from benchmarking import StrategyBenchmark, run_benchmark"
   ]
  },
  {
   "cell_type": "code",
   "execution_count": null,
   "id": "d99fa312",
   "metadata": {},
   "outputs": [],
   "source": [
    "plt.style.use('ggplot')\n",
    "plt.rcParams['figure.figsize'] = (12, 8)"
   ]
  },
  {
   "cell_type": "code",
   "execution_count": null,
   "id": "a00a2fa1",
   "metadata": {},
   "outputs": [],
   "source": [
    "print(\"## 1. Data Pipeline\")\n",
    "print(\"Fetch SPY daily data and calculate log returns using the DataPipeline class.\")"
   ]
  },
  {
   "cell_type": "code",
   "execution_count": null,
   "id": "a7ebd22c",
   "metadata": {},
   "outputs": [],
   "source": [
    "data_start_date = \"2010-01-01\"\n",
    "pipeline = DataPipeline(ticker=\"SPY\", start_date=data_start_date)"
   ]
  },
  {
   "cell_type": "code",
   "execution_count": null,
   "id": "b4dc941d",
   "metadata": {},
   "outputs": [],
   "source": [
    "data = pipeline.fetch_data()\n",
    "print(f\"Data shape: {data.shape}\")\n",
    "print(data.head())"
   ]
  },
  {
   "cell_type": "code",
   "execution_count": null,
   "id": "cc125d64",
   "metadata": {},
   "outputs": [],
   "source": [
    "log_returns = pipeline.calculate_log_returns()\n",
    "print(f\"Log returns shape: {log_returns.shape}\")\n",
    "print(log_returns.head())"
   ]
  },
  {
   "cell_type": "code",
   "execution_count": null,
   "id": "b797801f",
   "metadata": {},
   "outputs": [],
   "source": [
    "pipeline.plot_data()"
   ]
  },
  {
   "cell_type": "code",
   "execution_count": null,
   "id": "1a3b5aef",
   "metadata": {},
   "outputs": [],
   "source": [
    "train_ratio = 0.7\n",
    "train_data, test_data = pipeline.split_data(train_ratio=train_ratio)"
   ]
  },
  {
   "cell_type": "code",
   "execution_count": null,
   "id": "5583cbec",
   "metadata": {},
   "outputs": [],
   "source": [
    "print(f\"Training data shape: {train_data.shape}\")\n",
    "print(f\"Testing data shape: {test_data.shape}\")"
   ]
  },
  {
   "cell_type": "code",
   "execution_count": null,
   "id": "4c51a733",
   "metadata": {},
   "outputs": [],
   "source": [
    "print(\"\\n## 2. Model Training\")\n",
    "print(\"Train the HDP-HMM model using MCMC sampling. This can take a while depending on the number of iterations and the size of the dataset.\")"
   ]
  },
  {
   "cell_type": "code",
   "execution_count": null,
   "id": "34b2b72c",
   "metadata": {
    "lines_to_next_cell": 2
   },
   "outputs": [],
   "source": [
    "n_iter = 1000  # Number of MCMC iterations\n",
    "alpha = 1.0    # Concentration parameter for the Dirichlet Process prior on transitions\n",
    "gamma = 1.0    # Concentration parameter for the Dirichlet Process prior on states\n",
    "kappa = 10.0   # Self-transition bias parameter (sticky HDP-HMM)\n",
    "max_states = 20  # Maximum number of states to consider (truncation level)"
   ]
  },
  {
   "cell_type": "code",
   "execution_count": null,
   "id": "afb2822a",
   "metadata": {},
   "outputs": [],
   "source": [
    "os.makedirs(\"../models\", exist_ok=True)\n",
    "os.makedirs(\"../plots\", exist_ok=True)"
   ]
  },
  {
   "cell_type": "code",
   "execution_count": null,
   "id": "22970801",
   "metadata": {},
   "outputs": [],
   "source": [
    "model, train_data, test_data = train_model(\n",
    "    data_start_date=data_start_date,\n",
    "    train_ratio=train_ratio,\n",
    "    n_iter=n_iter,\n",
    "    alpha=alpha,\n",
    "    gamma=gamma,\n",
    "    kappa=kappa,\n",
    "    max_states=max_states,\n",
    "    save_dir=\"../models\",\n",
    "    plot_dir=\"../plots\"\n",
    ")"
   ]
  },
  {
   "cell_type": "code",
   "execution_count": null,
   "id": "52f54aad",
   "metadata": {},
   "outputs": [],
   "source": []
  },
  {
   "cell_type": "code",
   "execution_count": null,
   "id": "ae0138f6",
   "metadata": {},
   "outputs": [],
   "source": [
    "print(\"\\n## 3. State Analysis\")\n",
    "print(\"Analyze the identified regimes and their parameters.\")"
   ]
  },
  {
   "cell_type": "code",
   "execution_count": null,
   "id": "0bdd7594",
   "metadata": {},
   "outputs": [],
   "source": [
    "if not hasattr(model, 'state_parameters') or not model.state_parameters:\n",
    "    model._extract_state_parameters()"
   ]
  },
  {
   "cell_type": "code",
   "execution_count": null,
   "id": "f4522f08",
   "metadata": {},
   "outputs": [],
   "source": [
    "print(f\"Active states: {model.active_states}\")"
   ]
  },
  {
   "cell_type": "code",
   "execution_count": null,
   "id": "b0255291",
   "metadata": {},
   "outputs": [],
   "source": [
    "for s in model.active_states:\n",
    "    if s in model.state_parameters:\n",
    "        params = model.state_parameters[s]\n",
    "        print(f\"\\nState {s}:\")\n",
    "        print(f\"  Mean: {params['mean'][0]:.6f}\")\n",
    "        print(f\"  Std: {params['std'][0]:.6f}\")\n",
    "        print(f\"  Count: {params['count']}\")\n",
    "        print(f\"  Proportion: {params['proportion']:.4f}\")"
   ]
  },
  {
   "cell_type": "code",
   "execution_count": null,
   "id": "228593ef",
   "metadata": {},
   "outputs": [],
   "source": [
    "model.plot_state_sequence(data=log_returns)"
   ]
  },
  {
   "cell_type": "code",
   "execution_count": null,
   "id": "b869d00b",
   "metadata": {},
   "outputs": [],
   "source": [
    "model.plot_state_parameters()"
   ]
  },
  {
   "cell_type": "code",
   "execution_count": null,
   "id": "9cff6f16",
   "metadata": {},
   "outputs": [],
   "source": [
    "model.plot_log_likelihood()"
   ]
  },
  {
   "cell_type": "code",
   "execution_count": null,
   "id": "bd2402df",
   "metadata": {},
   "outputs": [],
   "source": [
    "analyze_state_parameters(model, log_returns, save_dir=\"../plots\")"
   ]
  },
  {
   "cell_type": "code",
   "execution_count": null,
   "id": "35cba9cd",
   "metadata": {},
   "outputs": [],
   "source": [
    "print(\"\\n## 4. Signal Generation\")\n",
    "print(\"Generate trading signals based on regime changes.\")"
   ]
  },
  {
   "cell_type": "code",
   "execution_count": null,
   "id": "a5b4052e",
   "metadata": {},
   "outputs": [],
   "source": [
    "signal_generator = RegimeSignalGenerator(model=model)"
   ]
  },
  {
   "cell_type": "code",
   "execution_count": null,
   "id": "38cfd0b2",
   "metadata": {},
   "outputs": [],
   "source": [
    "mapping_method = \"mean_based\"  # Options: \"mean_based\", \"volatility_based\", \"combined\"\n",
    "state_mapping = signal_generator.create_state_mapping(method=mapping_method)"
   ]
  },
  {
   "cell_type": "code",
   "execution_count": null,
   "id": "92f5219f",
   "metadata": {},
   "outputs": [],
   "source": [
    "print(\"State Mapping:\")\n",
    "for s, mapping in state_mapping.items():\n",
    "    print(f\"State {s}: {mapping['label']} ({mapping['guideline']})\")"
   ]
  },
  {
   "cell_type": "code",
   "execution_count": null,
   "id": "f5441f54",
   "metadata": {},
   "outputs": [],
   "source": [
    "signal_generator.plot_state_mapping()"
   ]
  },
  {
   "cell_type": "code",
   "execution_count": null,
   "id": "fb49612c",
   "metadata": {},
   "outputs": [],
   "source": [
    "confidence_threshold = 0.6\n",
    "test_dates = log_returns.index[int(len(log_returns) * train_ratio):]"
   ]
  },
  {
   "cell_type": "code",
   "execution_count": null,
   "id": "40d4c68e",
   "metadata": {},
   "outputs": [],
   "source": [
    "signals = signal_generator.generate_signals(\n",
    "    test_data, \n",
    "    dates=test_dates, \n",
    "    confidence_threshold=confidence_threshold\n",
    ")"
   ]
  },
  {
   "cell_type": "code",
   "execution_count": null,
   "id": "dcfcf541",
   "metadata": {},
   "outputs": [],
   "source": [
    "print(signals.head())"
   ]
  },
  {
   "cell_type": "code",
   "execution_count": null,
   "id": "7ad8b411",
   "metadata": {},
   "outputs": [],
   "source": [
    "regime_change_signals = signal_generator.generate_regime_change_signals(\n",
    "    test_data, \n",
    "    dates=test_dates, \n",
    "    confidence_threshold=confidence_threshold\n",
    ")"
   ]
  },
  {
   "cell_type": "code",
   "execution_count": null,
   "id": "4b796d87",
   "metadata": {},
   "outputs": [],
   "source": [
    "print(regime_change_signals.head())"
   ]
  },
  {
   "cell_type": "code",
   "execution_count": null,
   "id": "182e1137",
   "metadata": {},
   "outputs": [],
   "source": [
    "test_prices = data['Close'][test_dates]\n",
    "signal_generator.plot_signals(price_data=test_prices)"
   ]
  },
  {
   "cell_type": "code",
   "execution_count": null,
   "id": "a631f400",
   "metadata": {},
   "outputs": [],
   "source": [
    "print(\"\\n## 5. Performance Evaluation\")\n",
    "print(\"Benchmark the trading strategy against a buy and hold strategy.\")"
   ]
  },
  {
   "cell_type": "code",
   "execution_count": null,
   "id": "0e061555",
   "metadata": {},
   "outputs": [],
   "source": [
    "initial_capital = 10000.0\n",
    "transaction_cost = 0.001\n",
    "benchmark = StrategyBenchmark(initial_capital=initial_capital)"
   ]
  },
  {
   "cell_type": "code",
   "execution_count": null,
   "id": "680947fe",
   "metadata": {},
   "outputs": [],
   "source": [
    "strategy_data, metrics = benchmark.benchmark_strategy(\n",
    "    regime_change_signals,  # Using regime change signals\n",
    "    test_prices, \n",
    "    strategy_name=\"HDP-HMM Regime Strategy\",\n",
    "    transaction_cost=transaction_cost\n",
    ")"
   ]
  },
  {
   "cell_type": "code",
   "execution_count": null,
   "id": "7014b482",
   "metadata": {},
   "outputs": [],
   "source": [
    "benchmark.print_performance_summary()"
   ]
  },
  {
   "cell_type": "code",
   "execution_count": null,
   "id": "454df293",
   "metadata": {},
   "outputs": [],
   "source": [
    "benchmark.plot_equity_curves()"
   ]
  },
  {
   "cell_type": "code",
   "execution_count": null,
   "id": "194b65c6",
   "metadata": {},
   "outputs": [],
   "source": [
    "benchmark.plot_returns_distribution()"
   ]
  },
  {
   "cell_type": "code",
   "execution_count": null,
   "id": "2f2bee26",
   "metadata": {},
   "outputs": [],
   "source": [
    "os.makedirs(\"../results\", exist_ok=True)\n",
    "benchmark.save_results(directory=\"../results\")"
   ]
  },
  {
   "cell_type": "code",
   "execution_count": null,
   "id": "90eae8a7",
   "metadata": {},
   "outputs": [],
   "source": [
    "print(\"\\n## 6. Parameter Sensitivity Analysis\")\n",
    "print(\"Analyze the sensitivity of the strategy to different parameters.\")"
   ]
  },
  {
   "cell_type": "code",
   "execution_count": null,
   "id": "4c4dac92",
   "metadata": {},
   "outputs": [],
   "source": [
    "confidence_thresholds = [0.4, 0.5, 0.6, 0.7, 0.8]\n",
    "threshold_results = {}"
   ]
  },
  {
   "cell_type": "code",
   "execution_count": null,
   "id": "23c3673b",
   "metadata": {},
   "outputs": [],
   "source": [
    "for threshold in confidence_thresholds:\n",
    "    signals = signal_generator.generate_regime_change_signals(\n",
    "        test_data, \n",
    "        dates=test_dates, \n",
    "        confidence_threshold=threshold\n",
    "    )\n",
    "    \n",
    "    benchmark = StrategyBenchmark(initial_capital=initial_capital)\n",
    "    strategy_data, metrics = benchmark.benchmark_strategy(\n",
    "        signals, \n",
    "        test_prices, \n",
    "        strategy_name=f\"Threshold {threshold}\",\n",
    "        transaction_cost=transaction_cost\n",
    "    )\n",
    "    \n",
    "    threshold_results[threshold] = metrics"
   ]
  },
  {
   "cell_type": "code",
   "execution_count": null,
   "id": "9647dd09",
   "metadata": {},
   "outputs": [],
   "source": [
    "comparison = pd.DataFrame({\n",
    "    f\"Threshold {threshold}\": {\n",
    "        'Annual Return': metrics['Strategy_Annual_Return'],\n",
    "        'Sharpe Ratio': metrics['Strategy_Sharpe'],\n",
    "        'Max Drawdown': metrics['Strategy_Max_Drawdown'],\n",
    "        'Win Rate': metrics['Win_Rate'],\n",
    "        'Number of Trades': metrics['Number_of_Trades']\n",
    "    } for threshold, metrics in threshold_results.items()\n",
    "})"
   ]
  },
  {
   "cell_type": "code",
   "execution_count": null,
   "id": "6de9e03f",
   "metadata": {},
   "outputs": [],
   "source": [
    "print(comparison)"
   ]
  },
  {
   "cell_type": "code",
   "execution_count": null,
   "id": "ae263517",
   "metadata": {},
   "outputs": [],
   "source": [
    "mapping_methods = [\"mean_based\", \"volatility_based\", \"combined\"]\n",
    "method_results = {}"
   ]
  },
  {
   "cell_type": "code",
   "execution_count": null,
   "id": "3ae7f3f7",
   "metadata": {},
   "outputs": [],
   "source": [
    "for method in mapping_methods:\n",
    "    signal_generator = RegimeSignalGenerator(model=model)\n",
    "    state_mapping = signal_generator.create_state_mapping(method=method)\n",
    "    \n",
    "    signals = signal_generator.generate_regime_change_signals(\n",
    "        test_data, \n",
    "        dates=test_dates, \n",
    "        confidence_threshold=0.6\n",
    "    )\n",
    "    \n",
    "    benchmark = StrategyBenchmark(initial_capital=initial_capital)\n",
    "    strategy_data, metrics = benchmark.benchmark_strategy(\n",
    "        signals, \n",
    "        test_prices, \n",
    "        strategy_name=f\"Method {method}\",\n",
    "        transaction_cost=transaction_cost\n",
    "    )\n",
    "    \n",
    "    method_results[method] = metrics"
   ]
  },
  {
   "cell_type": "code",
   "execution_count": null,
   "id": "82074b12",
   "metadata": {},
   "outputs": [],
   "source": [
    "comparison = pd.DataFrame({\n",
    "    f\"Method {method}\": {\n",
    "        'Annual Return': metrics['Strategy_Annual_Return'],\n",
    "        'Sharpe Ratio': metrics['Strategy_Sharpe'],\n",
    "        'Max Drawdown': metrics['Strategy_Max_Drawdown'],\n",
    "        'Win Rate': metrics['Win_Rate'],\n",
    "        'Number of Trades': metrics['Number_of_Trades']\n",
    "    } for method, metrics in method_results.items()\n",
    "})"
   ]
  },
  {
   "cell_type": "code",
   "execution_count": null,
   "id": "de79aca9",
   "metadata": {},
   "outputs": [],
   "source": [
    "print(comparison)"
   ]
  },
  {
   "cell_type": "code",
   "execution_count": null,
   "id": "fd93f658",
   "metadata": {},
   "outputs": [],
   "source": [
    "print(\"\\n## 7. Conclusion\")\n",
    "print(\"\"\"\n",
    "The HDP-HMM MCMC model successfully identifies different market regimes in the SPY daily data. \n",
    "The trading strategy based on regime changes shows promising results compared to the buy and hold strategy.\n",
    "\n",
    "Key findings:\n",
    "1. The model identifies multiple regimes with distinct mean returns and volatilities\n",
    "2. The regime-based trading strategy adapts to changing market conditions\n",
    "3. Parameter sensitivity analysis shows the importance of proper calibration\n",
    "\n",
    "Future improvements:\n",
    "1. Incorporate more features beyond just log returns\n",
    "2. Optimize hyperparameters using cross-validation\n",
    "3. Implement more sophisticated trading rules based on regime probabilities\n",
    "4. Test the strategy on different assets and timeframes\n",
    "\"\"\")"
   ]
  }
 ],
 "metadata": {
  "jupytext": {
   "cell_metadata_filter": "-all",
   "main_language": "python",
   "notebook_metadata_filter": "-all"
  }
 },
 "nbformat": 4,
 "nbformat_minor": 5
}
